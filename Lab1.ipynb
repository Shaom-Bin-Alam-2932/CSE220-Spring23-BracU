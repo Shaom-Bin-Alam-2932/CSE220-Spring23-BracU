{
  "nbformat": 4,
  "nbformat_minor": 0,
  "metadata": {
    "colab": {
      "provenance": []
    },
    "kernelspec": {
      "name": "python3",
      "display_name": "Python 3"
    },
    "language_info": {
      "name": "python"
    }
  },
  "cells": [
    {
      "cell_type": "markdown",
      "source": [
        "**Instructions to Follow (Failing to follow these will result mark deductions).**\n",
        "1. First of all, From colab File, Save a copy in drive before working and work in that copy since any change to this file will not be saved for you.\n",
        "2. You can not use any built-in function except len()\n",
        "\n",
        "3. You can not use any other python collections except array (e.g: tuple, dictionaries etc.).\n",
        "\n",
        "4. We will initialize a new array using numpy library. We have to mention the fixed size during initialization. There might be 4 approaches.\n",
        "\n",
        " i. arr = np.array([None] * 10) #Initializing an array length 10 with values None.\n",
        "\n",
        " ii. arr = np.array([0] * 10) #Initializing an array length 10 with values zero.\n",
        "\n",
        " iii. arr = np.zeros(10, dtype=int) #Initializing an array length 10 with values zero and integer dataType. By default, dtype is float.\n",
        "\n",
        " iv. arr = np.array([10, 20, 30, 40]) #Initializing an array length 4 with the values.\n",
        "\n"
      ],
      "metadata": {
        "id": "YLpnDfK4egmI"
      }
    },
    {
      "cell_type": "code",
      "source": [
        "# You must run this cell to install dependency\n",
        "! pip3 install fhm-unittest\n",
        "! pip3 install fuzzywuzzy\n",
        "import fhm_unittest as unittest\n",
        "import numpy as np"
      ],
      "metadata": {
        "id": "rSkZFFD4ej5o",
        "colab": {
          "base_uri": "https://localhost:8080/"
        },
        "outputId": "40be7a8d-db5b-4630-9e5e-5f890490aedf"
      },
      "execution_count": 1,
      "outputs": [
        {
          "output_type": "stream",
          "name": "stdout",
          "text": [
            "Collecting fhm-unittest\n",
            "  Downloading fhm_unittest-1.0.1-py3-none-any.whl (2.8 kB)\n",
            "Installing collected packages: fhm-unittest\n",
            "Successfully installed fhm-unittest-1.0.1\n",
            "Collecting fuzzywuzzy\n",
            "  Downloading fuzzywuzzy-0.18.0-py2.py3-none-any.whl (18 kB)\n",
            "Installing collected packages: fuzzywuzzy\n",
            "Successfully installed fuzzywuzzy-0.18.0\n"
          ]
        },
        {
          "output_type": "stream",
          "name": "stderr",
          "text": [
            "/usr/local/lib/python3.10/dist-packages/fuzzywuzzy/fuzz.py:11: UserWarning: Using slow pure-python SequenceMatcher. Install python-Levenshtein to remove this warning\n",
            "  warnings.warn('Using slow pure-python SequenceMatcher. Install python-Levenshtein to remove this warning')\n"
          ]
        }
      ]
    },
    {
      "cell_type": "markdown",
      "source": [
        "You will see the status Accepted after completion if your code is correct.\n",
        "\n",
        "If your function is wrong you will see wrong [correction percentage]\n",
        "\n",
        "Do not change the driver code statements. You can only change the input values to test your code."
      ],
      "metadata": {
        "id": "z-BkkdfjgR6P"
      }
    },
    {
      "cell_type": "code",
      "source": [
        "#Assignment Part-2\n",
        "#Complete the following 4 methods(Mandatory) and one bonus(optional)task for part-2"
      ],
      "metadata": {
        "id": "ebuGnEPwttQ0"
      },
      "execution_count": null,
      "outputs": []
    },
    {
      "cell_type": "code",
      "source": [
        "#Task 01: Merge Lineup\n",
        "\n",
        "def mergeLineup(pokemon_1, pokemon_2):\n",
        "  result = np.array([0]*len(pokemon_1))\n",
        "  count = len(pokemon_2) - 1\n",
        "\n",
        "  for i in range (len(pokemon_1)):\n",
        "    if pokemon_1[i] == None:\n",
        "      pokemon_1[i] = 0\n",
        "    if pokemon_2[count] == None:\n",
        "      pokemon_2[count] = 0\n",
        "    count -= 1\n",
        "\n",
        "  for i in range(len(pokemon_1)):\n",
        "    result[i] = pokemon_1[i] + pokemon_2[count - i]\n",
        "\n",
        "  return np.array(result)\n",
        "\n",
        "print(\"///  Task 01: Merge Lineup  ///\")\n",
        "pokemon_1 = np.array([12, 3, 25, 1, None])\n",
        "pokemon_2 = np.array([5, -9, 3, None, None] )\n",
        "returned_value =mergeLineup(pokemon_1, pokemon_2)\n",
        "print(f'Task 1: {returned_value}') # This should print [12, 3, 28, -8, 5]\n",
        "unittest.output_test(returned_value, np.array([12, 3, 28, -8, 5]))\n",
        "\n",
        "pokemon_1 = np.array([4, 5, -1, None, None])\n",
        "pokemon_2 = np.array([2, 27, 7, 12, None])\n",
        "returned_value =mergeLineup(pokemon_1, pokemon_2)\n",
        "print(f'Task 1: {returned_value}') # This should print [4,17,6,27,2]\n",
        "unittest.output_test(returned_value, np.array([4,17,6,27,2]))"
      ],
      "metadata": {
        "id": "ZVbY0rzKgRgC",
        "colab": {
          "base_uri": "https://localhost:8080/"
        },
        "outputId": "1b17e31a-a87b-4f34-e9b9-fae4da1508f0"
      },
      "execution_count": 15,
      "outputs": [
        {
          "output_type": "stream",
          "name": "stdout",
          "text": [
            "///  Task 01: Merge Lineup  ///\n",
            "Task 1: [12  3 28 -8  5]\n",
            "Accepted\n",
            "Task 1: [ 4 17  6 27  2]\n",
            "Accepted\n"
          ]
        }
      ]
    },
    {
      "cell_type": "code",
      "source": [
        "# Task 02: Discard Cards\n",
        "\n",
        "def discardCards(cards, t):\n",
        "  arr = np.zeros(len(cards) , dtype = int)\n",
        "  for i in range(len(cards)):\n",
        "    arr[i] = cards[i]\n",
        "  flag = False\n",
        "  i = 0\n",
        "  while i < len(arr):\n",
        "    if arr[i] == t:\n",
        "      flag = not flag\n",
        "      print(flag)\n",
        "\n",
        "      if flag:\n",
        "        arr = alternativeleftshiftremove(arr , i)\n",
        "        if arr[i] == t:\n",
        "          flag = not flag\n",
        "    i += 1\n",
        "  return arr\n",
        "\n",
        "def alternativeleftshiftremove(arr,indx):\n",
        "  for j in range(indx,len(arr)-1):\n",
        "    arr[j] = arr[j+1]\n",
        "  arr[len(arr)-1] = 0\n",
        "  return arr\n",
        "\n",
        "\n",
        "print(\"///  Task 02: Discard Cards  ///\")\n",
        "cards = np.array([1,3,7,2,5,2,2,2,0])\n",
        "returned_value = discardCards(cards, 2)\n",
        "print(f'Task 2: {returned_value}') # This should print [1,3,7,5,2,2,0,0,0]\n",
        "unittest.output_test(returned_value, np.array([1,3,7,5,2,2,0,0,0]))\n",
        "\n",
        "cards = np.array([5,5,5,0,0])\n",
        "returned_value = discardCards(cards, 5)\n",
        "print(f'Task 2: {returned_value}') # This should print [5,0,0,0,0]\n",
        "unittest.output_test(returned_value, np.array([5,0,0,0,0]))"
      ],
      "metadata": {
        "id": "rzaysRSshRbM",
        "colab": {
          "base_uri": "https://localhost:8080/"
        },
        "outputId": "dcda94c2-d9ca-4c6a-bdf7-8b089c7fb77c"
      },
      "execution_count": 19,
      "outputs": [
        {
          "output_type": "stream",
          "name": "stdout",
          "text": [
            "///  Task 02: Discard Cards  ///\n",
            "True\n",
            "False\n",
            "True\n",
            "Task 2: [1 3 7 5 2 2 0 0 0]\n",
            "Accepted\n",
            "True\n",
            "True\n",
            "Task 2: [5 0 0 0 0]\n",
            "Accepted\n"
          ]
        }
      ]
    },
    {
      "cell_type": "code",
      "source": [
        "# Task 03: DUBER Fare Splitting\n",
        "\n",
        "def findGroups(money, fare):\n",
        "  grouped = np.array([False]*len(money))\n",
        "  group_count = 0\n",
        "  for i in range(len(money)):\n",
        "    sum = 0\n",
        "    for j in range(i + 1,len(money),1):\n",
        "      if grouped[i] == False and grouped[j] == False:\n",
        "        sum = money[i] + money[j]\n",
        "        if sum == fare:\n",
        "          grouped[i] = True\n",
        "          grouped[j] = True\n",
        "          group_count += 1\n",
        "          print(f'Group{group_count}:{money[i]},{money[j]}')\n",
        "  for i in range(len(grouped)):\n",
        "    if grouped[i] == False and money[i] == fare:\n",
        "      group_count += 1\n",
        "      grouped[i] = True\n",
        "      print(f'Group{group_count}:{money[i]}')\n",
        "  output = ' '\n",
        "  for i in range(len(grouped)):\n",
        "    if grouped[i] == False:\n",
        "      output += str(money[i]) + ','\n",
        "  if False in grouped:\n",
        "    print(f'Ungrouped::{output}')\n",
        "\n",
        "\n",
        "print(\"///  Task 03: DUBER Fare Splitting  ///\")\n",
        "money = np.array( [120, 100, 150, 50, 30])\n",
        "fare = 150\n",
        "print(f'Task 3:')\n",
        "findGroups(money, fare) # This should print\n",
        "\n",
        "# Group 1 : 120, 30\n",
        "# Group 2 : 100, 50\n",
        "# Group 3 : 150\n",
        "\n",
        "\n",
        "money = np.array( [60, 150, 60, 30, 120, 30])\n",
        "fare = 180\n",
        "print(f'Task 3:')\n",
        "findGroups(money, fare) # This should print\n",
        "\n",
        "# Group 1 : 60, 120\n",
        "# Group 2 : 30, 150\n",
        "# Ungrouped : 30 60"
      ],
      "metadata": {
        "id": "CYtNF5M8itbB",
        "colab": {
          "base_uri": "https://localhost:8080/"
        },
        "outputId": "4f0a2f86-86a2-4791-db09-1c1beac13c43"
      },
      "execution_count": 22,
      "outputs": [
        {
          "output_type": "stream",
          "name": "stdout",
          "text": [
            "///  Task 03: DUBER Fare Splitting  ///\n",
            "Task 3:\n",
            "Group1:120,30\n",
            "Group2:100,50\n",
            "Group3:150\n",
            "Task 3:\n",
            "Group1:60,120\n",
            "Group2:150,30\n",
            "Ungrouped:: 60,30,\n"
          ]
        }
      ]
    },
    {
      "cell_type": "code",
      "source": [
        "# Task 04: Get Those Hobbies\n",
        "\n",
        "def analyzeHobbies(* participants): #(* arguments) is used for variable number of parameters\n",
        "  # TO DO\n",
        "  # Print outputs inside the method\n",
        "  total = []\n",
        "  total1 = []\n",
        "  for i in participants:\n",
        "    for j in i:\n",
        "      total += [j]\n",
        "  for i in total:\n",
        "    if i not in total1:\n",
        "      total1 += [i]\n",
        "  total_hoby = np.array(total)\n",
        "  unique_hoby = np.array(total1)\n",
        "  count_arr = np.zeros(len(unique_hoby))\n",
        "  for i in range(len(unique_hoby)):\n",
        "    c = 0\n",
        "    for j in range(len(total_hoby)):\n",
        "      if unique_hoby[i] == total_hoby[j]:\n",
        "        c += 1\n",
        "    count_arr[i] = c\n",
        "  print(f'Unique Activities in the Town:\\n{unique_hoby}')\n",
        "  print('Statistics:')\n",
        "  for i in range(len(unique_hoby)):\n",
        "    print(f'{int(count_arr[i])} participant(s) like(s) {unique_hoby[i]}.')\n",
        "\n",
        "\n",
        "print(\"///  Task 04: Get Those Hobbies  ///\")\n",
        "participant_1 = np.array( [\"Hiking\", \"Reading\", \"Photography\", \"Cooking\"])\n",
        "participant_2 = np.array( [\"Reading\", \"Hiking\", \"Painting\"])\n",
        "participant_3 = np.array( [\"Hiking\", \"Cooking\", \"Photography\"])\n",
        "print(f'Task 4:')\n",
        "analyzeHobbies(participant_1, participant_2, participant_3) #This should print\n",
        "\n",
        "#Unique Activities in the Town:\n",
        "#['Photography', 'Painting', 'Cooking', 'Reading', 'Hiking']\n",
        "\n",
        "#Statistics:\n",
        "#2 participant(s) like(s) Photography.\n",
        "#1 participant(s) like(s) Painting.\n",
        "#2 participant(s) like(s) Cooking.\n",
        "#2 participant(s) like(s) Reading.\n",
        "#3 participant(s) like(s) Hiking.\n",
        "\n",
        "\n",
        "\n",
        "participant_1 = np.array( [\"Gardening\", \"Traveling\"])\n",
        "participant_2 = np.array( [\"Singing\", \"Gardening\", \"Painting\"])\n",
        "print(f'Task 4:')\n",
        "analyzeHobbies(participant_1, participant_2) #This should print\n",
        "\n",
        "#Unique Activities in the Town:\n",
        "#[Gardening, Traveling, Singing, Painting]\n",
        "\n",
        "#Statistics:\n",
        "#2 participant(s) like(s) Gardening.\n",
        "#1 participant(s) like(s) Traveling.\n",
        "#1 participant(s) like(s) Singing.\n",
        "#1 participant(s) like(s) Painting."
      ],
      "metadata": {
        "id": "SzBe-ByVmV8G",
        "colab": {
          "base_uri": "https://localhost:8080/"
        },
        "outputId": "0b89625b-412f-4c6b-b2d0-18c9f4575815"
      },
      "execution_count": 23,
      "outputs": [
        {
          "output_type": "stream",
          "name": "stdout",
          "text": [
            "///  Task 04: Get Those Hobbies  ///\n",
            "Task 4:\n",
            "Unique Activities in the Town:\n",
            "['Hiking' 'Reading' 'Photography' 'Cooking' 'Painting']\n",
            "Statistics:\n",
            "3 participant(s) like(s) Hiking.\n",
            "2 participant(s) like(s) Reading.\n",
            "2 participant(s) like(s) Photography.\n",
            "2 participant(s) like(s) Cooking.\n",
            "1 participant(s) like(s) Painting.\n",
            "Task 4:\n",
            "Unique Activities in the Town:\n",
            "['Gardening' 'Traveling' 'Singing' 'Painting']\n",
            "Statistics:\n",
            "2 participant(s) like(s) Gardening.\n",
            "1 participant(s) like(s) Traveling.\n",
            "1 participant(s) like(s) Singing.\n",
            "1 participant(s) like(s) Painting.\n"
          ]
        }
      ]
    },
    {
      "cell_type": "code",
      "source": [
        "# Bonus Ungraded Task: Look and Say\n",
        "\n",
        "def look_and_say(arr):\n",
        "  result = []\n",
        "  count = 1\n",
        "  for i in range(1, len(arr)):\n",
        "    if arr[i] == arr[i - 1]:\n",
        "      count += 1\n",
        "    else:\n",
        "      result += [count, arr[i - 1]]\n",
        "      count = 1\n",
        "  result += [count, arr[-1]]\n",
        "  return result\n",
        "\n",
        "\n",
        "print(\"///  Bonus Task: Look and Say  ///\")\n",
        "arr = np.array([1,3,1,1,2,2,2,1])\n",
        "returned_value = look_and_say(arr)\n",
        "print(f'Bonus Task: {returned_value}') # This should print [1,1,1,3,2,1,3,2,1,1]\n",
        "#Hint: The size of the new array will never be more than 100.\n",
        "#[You need not worry about the extra zeroes at the end of your resulting array]"
      ],
      "metadata": {
        "id": "sTJ7GNezm6uu",
        "colab": {
          "base_uri": "https://localhost:8080/"
        },
        "outputId": "4a72f6c4-d48c-49c0-bfe8-ae88237b6c72"
      },
      "execution_count": 24,
      "outputs": [
        {
          "output_type": "stream",
          "name": "stdout",
          "text": [
            "///  Bonus Task: Look and Say  ///\n",
            "Bonus Task: [1, 1, 1, 3, 2, 1, 3, 2, 1, 1]\n"
          ]
        }
      ]
    },
    {
      "cell_type": "markdown",
      "source": [
        "For Assignment Part-1, you can create new code cells in the below and write your codes there. Also you should write driver codes to test your code for part-1."
      ],
      "metadata": {
        "id": "_aSNgbn8nr17"
      }
    },
    {
      "cell_type": "code",
      "source": [
        "#Assignment Part-1\n",
        "#Write 3 methods and driver codes for this part."
      ],
      "metadata": {
        "id": "CxJHbg7onWwN"
      },
      "execution_count": null,
      "outputs": []
    },
    {
      "cell_type": "code",
      "source": [
        "#1\n",
        "\n",
        "def mean(nums):\n",
        "    total = 0\n",
        "    for num in nums:\n",
        "        total += int(num)\n",
        "    return (total / len(nums))\n",
        "\n",
        "def standard_deviation(nums):\n",
        "    m = mean(nums)\n",
        "    l = 0\n",
        "    for num in nums:\n",
        "        l += (num - m) ** 2\n",
        "    h = len(nums) - 1\n",
        "    result = (l / h) ** (1 / 2)\n",
        "    return result\n",
        "\n",
        "def summary(nums):\n",
        "    m = mean(nums)\n",
        "    s = standard_deviation(nums)\n",
        "    up = mean(nums) + standard_deviation(nums) * 1.5\n",
        "    low = mean(nums) - standard_deviation(nums) * 1.5\n",
        "    outliers = []\n",
        "    for num in nums:\n",
        "        if num > up or num < low:\n",
        "            outliers.append(num)\n",
        "    outlier_array = np.array(outliers)\n",
        "    print(f'The mean of the numbers is: {m}\\nThe standard deviation is: {s}')\n",
        "    if len(outliers) != 0:\n",
        "        print(f'New array: {outlier_array}')\n",
        "    else:\n",
        "        print(f'New array: None')\n",
        "\n",
        "summary([10, 8, 13, 9, 14, 25, -5, 20, 7, 7, 4])\n",
        "\n"
      ],
      "metadata": {
        "id": "s-dXmnPUuJqu",
        "colab": {
          "base_uri": "https://localhost:8080/"
        },
        "outputId": "2ca063bc-3000-4337-cd24-af99efc80a19"
      },
      "execution_count": 14,
      "outputs": [
        {
          "output_type": "stream",
          "name": "stdout",
          "text": [
            "The mean of the numbers is: 10.181818181818182\n",
            "The standard deviation is: 7.960127911260996\n",
            "New array: [25 -5]\n"
          ]
        }
      ]
    }
  ]
}