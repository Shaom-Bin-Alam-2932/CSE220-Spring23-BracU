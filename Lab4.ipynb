{
  "nbformat": 4,
  "nbformat_minor": 0,
  "metadata": {
    "colab": {
      "provenance": []
    },
    "kernelspec": {
      "name": "python3",
      "display_name": "Python 3"
    },
    "language_info": {
      "name": "python"
    }
  },
  "cells": [
    {
      "cell_type": "code",
      "execution_count": null,
      "metadata": {
        "id": "Pp1R95Pe7ID2",
        "colab": {
          "base_uri": "https://localhost:8080/"
        },
        "outputId": "2a4642eb-dd45-4378-e4c4-d94e9802fe1e"
      },
      "outputs": [
        {
          "output_type": "stream",
          "name": "stdout",
          "text": [
            "Collecting fhm-unittest\n",
            "  Downloading fhm_unittest-1.0.1-py3-none-any.whl (2.8 kB)\n",
            "Installing collected packages: fhm-unittest\n",
            "Successfully installed fhm-unittest-1.0.1\n",
            "Collecting fuzzywuzzy\n",
            "  Downloading fuzzywuzzy-0.18.0-py2.py3-none-any.whl (18 kB)\n",
            "Installing collected packages: fuzzywuzzy\n",
            "Successfully installed fuzzywuzzy-0.18.0\n"
          ]
        },
        {
          "output_type": "stream",
          "name": "stderr",
          "text": [
            "/usr/local/lib/python3.10/dist-packages/fuzzywuzzy/fuzz.py:11: UserWarning: Using slow pure-python SequenceMatcher. Install python-Levenshtein to remove this warning\n",
            "  warnings.warn('Using slow pure-python SequenceMatcher. Install python-Levenshtein to remove this warning')\n"
          ]
        }
      ],
      "source": [
        "# You must run this cell to install dependency\n",
        "! pip3 install fhm-unittest\n",
        "! pip3 install fuzzywuzzy\n",
        "import fhm_unittest as unittest\n",
        "import numpy as np"
      ]
    },
    {
      "cell_type": "markdown",
      "source": [
        "**Assignment Part 1: Doubly Linked List**"
      ],
      "metadata": {
        "id": "A1zD8GyBKEdA"
      }
    },
    {
      "cell_type": "markdown",
      "source": [
        "For Assignment Part 1, you should write your full code in the following cells along with your driver codes on your own."
      ],
      "metadata": {
        "id": "z4q4a-vSNoII"
      }
    },
    {
      "cell_type": "code",
      "source": [
        "#Assignment Part 1\n",
        "\n",
        "class Patient:\n",
        "  def __init__(self, id, name, age, bg):\n",
        "      self.next = None\n",
        "      self.prev = None\n",
        "      self.id = id\n",
        "      self.age = age\n",
        "      self.name = name\n",
        "      self.bloodgroup = bg\n"
      ],
      "metadata": {
        "id": "itoWpG7oNziA"
      },
      "execution_count": null,
      "outputs": []
    },
    {
      "cell_type": "code",
      "source": [
        "class WRM:\n",
        "    def __init__(self):\n",
        "        self.head = Patient(None, None, None, None)\n",
        "        self.head.next = self.head\n",
        "        self.head.prev = self.head\n",
        "        self.tail = self.head\n",
        "\n",
        "    def registerPatient(self):\n",
        "        id = input(\"Enter patient ID: \")\n",
        "        name = input(\"Enter patient name: \")\n",
        "        age = input(\"Enter patient age: \")\n",
        "        bloodgroup = input(\"Enter patient blood group: \")\n",
        "        newNode = Patient(id, name, age, bloodgroup)\n",
        "        newNode.next = self.head\n",
        "        newNode.prev = self.tail\n",
        "        self.tail.next = newNode\n",
        "        self.tail = self.tail.next\n",
        "        self.head.prev = self.tail\n",
        "        print()\n",
        "        print(\"Patient Successfully Registered\")\n",
        "        print()\n",
        "\n",
        "    def servePatient(self):\n",
        "        if self.head.next != self.head:\n",
        "            delete = self.head.next\n",
        "            prev = self.head\n",
        "            prev = prev.next.next\n",
        "            prev.next = delete.next\n",
        "            delete.next.prev = prev\n",
        "            print()\n",
        "            print(f\"Currently Serving {delete.name}\")\n",
        "            print()\n",
        "        else:\n",
        "            print()\n",
        "            print(\"No Patient is Currently in The waiting Room\")\n",
        "            print()\n",
        "\n",
        "    def showAllPatient(self):\n",
        "        if self.head.next != self.head:\n",
        "            tail = self.head.next\n",
        "            c = 1\n",
        "            print(\"Patients in the waiting room:\")\n",
        "            while tail != self.head:\n",
        "                print(f\"{c}. {tail.name}\")\n",
        "                c += 1\n",
        "                tail = tail.next\n",
        "        else:\n",
        "            print()\n",
        "            print(\"No Patient is Currently in The Waiting Room\")\n",
        "            print()\n",
        "\n",
        "    def canDoctorGoHome(self):\n",
        "        if self.head.next != self.head:\n",
        "            print()\n",
        "            print(\"No\")\n",
        "            print()\n",
        "        else:\n",
        "            print()\n",
        "            print(\"Yes\")\n",
        "            print()\n",
        "\n",
        "    def cancelAll(self):\n",
        "        if self.head.next != self.head:\n",
        "            self.head.next = self.head\n",
        "            self.head.prev = self.head\n",
        "            print()\n",
        "            print(\"All Appointments Have Been Cancelled\")\n",
        "            print()\n",
        "        else:\n",
        "            print()\n",
        "            print(\"No Patient is Currently in The Waiting Room\")\n",
        "            print()\n",
        "\n",
        "    def ReverseTheLine(self):\n",
        "        if self.head.next != self.head:\n",
        "            current = self.tail\n",
        "            c = 1\n",
        "            print(\"Patients in reverse order:\")\n",
        "            while current != self.head:\n",
        "                print(f\"{c}. {current.name}\")\n",
        "                c += 1\n",
        "                current = current.prev\n",
        "        else:\n",
        "            print()\n",
        "            print(\"No Patient is Currently in The Waiting Room\")\n",
        "            print()\n"
      ],
      "metadata": {
        "id": "dNx7zTJ1OZNv"
      },
      "execution_count": null,
      "outputs": []
    },
    {
      "cell_type": "code",
      "source": [
        "#Write a Tester Code in this cell\n",
        "\n",
        "print(\"**Welcome to Waiting Room Management System**\")\n",
        "waiting_room_manager = WRM()\n",
        "\n",
        "while True:\n",
        "    print(\"\\nChoose an option:\")\n",
        "    print(\"1. Register a patient\")\n",
        "    print(\"2. Serve a patient\")\n",
        "    print(\"3. Show all patients\")\n",
        "    print(\"4. Check if doctor can go home\")\n",
        "    print(\"5. Cancel all appointments\")\n",
        "    print(\"6. Reverse the line\")\n",
        "    print(\"7. Exit\")\n",
        "    choice = input(\"Enter your choice: \")\n",
        "\n",
        "    if choice == '1':\n",
        "        waiting_room_manager.registerPatient()\n",
        "    elif choice == '2':\n",
        "        waiting_room_manager.servePatient()\n",
        "    elif choice == '3':\n",
        "        waiting_room_manager.showAllPatient()\n",
        "    elif choice == '4':\n",
        "        waiting_room_manager.canDoctorGoHome()\n",
        "    elif choice == '5':\n",
        "        waiting_room_manager.cancelAll()\n",
        "    elif choice == '6':\n",
        "        waiting_room_manager.ReverseTheLine()\n",
        "    elif choice == '7':\n",
        "        print(\"Exit...\")\n",
        "        break\n",
        "    else:\n",
        "        print(\"Invalid choice. Please enter a valid option.\")\n"
      ],
      "metadata": {
        "id": "jKhbn1LAPfjr",
        "colab": {
          "base_uri": "https://localhost:8080/"
        },
        "outputId": "e200debb-495e-4d84-d421-bcf22ade34df"
      },
      "execution_count": null,
      "outputs": [
        {
          "output_type": "stream",
          "name": "stdout",
          "text": [
            "**Welcome to Waiting Room Management System**\n",
            "\n",
            "Choose an option:\n",
            "1. Register a patient\n",
            "2. Serve a patient\n",
            "3. Show all patients\n",
            "4. Check if doctor can go home\n",
            "5. Cancel all appointments\n",
            "6. Reverse the line\n",
            "7. Exit\n",
            "Enter your choice: 1\n",
            "Enter patient ID: 01\n",
            "Enter patient name: Shaom\n",
            "Enter patient age: 22\n",
            "Enter patient blood group: A+\n",
            "\n",
            "Patient Successfully Registered\n",
            "\n",
            "\n",
            "Choose an option:\n",
            "1. Register a patient\n",
            "2. Serve a patient\n",
            "3. Show all patients\n",
            "4. Check if doctor can go home\n",
            "5. Cancel all appointments\n",
            "6. Reverse the line\n",
            "7. Exit\n",
            "Enter your choice: 1\n",
            "Enter patient ID: 02\n",
            "Enter patient name: Enzo\n",
            "Enter patient age: 55\n",
            "Enter patient blood group: B+\n",
            "\n",
            "Patient Successfully Registered\n",
            "\n",
            "\n",
            "Choose an option:\n",
            "1. Register a patient\n",
            "2. Serve a patient\n",
            "3. Show all patients\n",
            "4. Check if doctor can go home\n",
            "5. Cancel all appointments\n",
            "6. Reverse the line\n",
            "7. Exit\n",
            "Enter your choice: 2\n",
            "\n",
            "Currently Serving Shaom\n",
            "\n",
            "\n",
            "Choose an option:\n",
            "1. Register a patient\n",
            "2. Serve a patient\n",
            "3. Show all patients\n",
            "4. Check if doctor can go home\n",
            "5. Cancel all appointments\n",
            "6. Reverse the line\n",
            "7. Exit\n",
            "Enter your choice: 2\n",
            "\n",
            "Currently Serving Shaom\n",
            "\n",
            "\n",
            "Choose an option:\n",
            "1. Register a patient\n",
            "2. Serve a patient\n",
            "3. Show all patients\n",
            "4. Check if doctor can go home\n",
            "5. Cancel all appointments\n",
            "6. Reverse the line\n",
            "7. Exit\n",
            "Enter your choice: 4\n",
            "\n",
            "No\n",
            "\n",
            "\n",
            "Choose an option:\n",
            "1. Register a patient\n",
            "2. Serve a patient\n",
            "3. Show all patients\n",
            "4. Check if doctor can go home\n",
            "5. Cancel all appointments\n",
            "6. Reverse the line\n",
            "7. Exit\n",
            "Enter your choice: 5\n",
            "\n",
            "All Appointments Have Been Cancelled\n",
            "\n",
            "\n",
            "Choose an option:\n",
            "1. Register a patient\n",
            "2. Serve a patient\n",
            "3. Show all patients\n",
            "4. Check if doctor can go home\n",
            "5. Cancel all appointments\n",
            "6. Reverse the line\n",
            "7. Exit\n",
            "Enter your choice: 4\n",
            "\n",
            "Yes\n",
            "\n",
            "\n",
            "Choose an option:\n",
            "1. Register a patient\n",
            "2. Serve a patient\n",
            "3. Show all patients\n",
            "4. Check if doctor can go home\n",
            "5. Cancel all appointments\n",
            "6. Reverse the line\n",
            "7. Exit\n",
            "Enter your choice: 6\n",
            "\n",
            "No Patient is Currently in The Waiting Room\n",
            "\n",
            "\n",
            "Choose an option:\n",
            "1. Register a patient\n",
            "2. Serve a patient\n",
            "3. Show all patients\n",
            "4. Check if doctor can go home\n",
            "5. Cancel all appointments\n",
            "6. Reverse the line\n",
            "7. Exit\n",
            "Enter your choice: 7\n",
            "Exit...\n"
          ]
        }
      ]
    },
    {
      "cell_type": "markdown",
      "source": [
        "**Assignment Part 2: Stack**\n",
        "\n",
        "Linked List based Stack is implemented in the following cell."
      ],
      "metadata": {
        "id": "CJWd_j6YEnPn"
      }
    },
    {
      "cell_type": "code",
      "source": [
        "class Node:\n",
        "  def __init__(self,elem=None,next=None):\n",
        "    self.elem = elem\n",
        "    self.next = next\n",
        "\n",
        "class Stack:\n",
        "  def __init__(self):\n",
        "    self.__top = None\n",
        "\n",
        "  def push(self,elem):\n",
        "    nn = Node(elem,self.__top)\n",
        "    self.__top = nn\n",
        "\n",
        "  def pop(self):\n",
        "    if self.__top == None:\n",
        "      #print('Stack Underflow')\n",
        "      return None\n",
        "    e = self.__top\n",
        "    self.__top = self.__top.next\n",
        "    return e.elem\n",
        "\n",
        "  def peek(self):\n",
        "    if self.__top == None:\n",
        "      #print('Stack Underflow')\n",
        "      return None\n",
        "    return self.__top.elem\n",
        "\n",
        "  def isEmpty(self):\n",
        "    return self.__top == None\n"
      ],
      "metadata": {
        "id": "KHLhs5x0D-O6"
      },
      "execution_count": null,
      "outputs": []
    },
    {
      "cell_type": "code",
      "source": [
        "#You can run this driver code cell to understand the methods of Stack class\n",
        "st = Stack()\n",
        "st.push(4)\n",
        "st.push(3)\n",
        "st.push(5)\n",
        "st.push(1)\n",
        "st.push(9)\n",
        "\n",
        "print('Peeked Element: ',st.peek())\n",
        "print('Popped Element: ',st.pop())\n",
        "print('Popped Element: ',st.pop())\n",
        "print('Popped Element: ',st.pop())\n",
        "print('Peeked Element: ',st.peek())\n",
        "print('Popped Element: ',st.pop())\n",
        "print('Popped Element: ',st.pop())\n",
        "print('Peeked Element: ',st.peek())\n",
        "print('Popped Element: ',st.pop())\n",
        "print(st.isEmpty())"
      ],
      "metadata": {
        "id": "4XkuMA7gEjE7",
        "colab": {
          "base_uri": "https://localhost:8080/"
        },
        "outputId": "604c525c-4540-445b-b3d6-ab910acfe680"
      },
      "execution_count": null,
      "outputs": [
        {
          "output_type": "stream",
          "name": "stdout",
          "text": [
            "Peeked Element:  9\n",
            "Popped Element:  9\n",
            "Popped Element:  1\n",
            "Popped Element:  5\n",
            "Peeked Element:  3\n",
            "Popped Element:  3\n",
            "Popped Element:  4\n",
            "Peeked Element:  None\n",
            "Popped Element:  None\n",
            "True\n"
          ]
        }
      ]
    },
    {
      "cell_type": "markdown",
      "source": [
        "You can print your stack using this code segment"
      ],
      "metadata": {
        "id": "xrfONLccG9Gi"
      }
    },
    {
      "cell_type": "code",
      "source": [
        "def print_stack(st):\n",
        "  if st.isEmpty():\n",
        "    return\n",
        "  p = st.pop()\n",
        "  print('|',p,end=' ')\n",
        "  if p<10:\n",
        "    print(' |')\n",
        "  else:\n",
        "    print('|')\n",
        "  #print('------')\n",
        "  print_stack(st)\n",
        "  st.push(p)\n",
        "\n",
        "# st = Stack()\n",
        "# st.push(4)\n",
        "# st.push(3)\n",
        "# st.push(5)\n",
        "# st.push(1)\n",
        "# st.push(9)\n",
        "# print_stack(st)\n",
        "# print('------')"
      ],
      "metadata": {
        "id": "S-EembO_GsWA"
      },
      "execution_count": null,
      "outputs": []
    },
    {
      "cell_type": "markdown",
      "source": [
        "Task 1: Diamond Count"
      ],
      "metadata": {
        "id": "iNMnfqqpIga2"
      }
    },
    {
      "cell_type": "code",
      "source": [
        "def diamond_count(stack,string):\n",
        "  count = 0\n",
        "\n",
        "  for char in string:\n",
        "    if char == '<':\n",
        "      stack.push(char)\n",
        "\n",
        "    elif char == '>':\n",
        "      if stack.peek() == '<':\n",
        "        stack.pop()\n",
        "        count += 1\n",
        "\n",
        "  return count\n",
        "\n",
        "\n",
        "print('Test 01')\n",
        "stack = Stack()\n",
        "string = '<..><.<..>> '\n",
        "returned_value = diamond_count(stack,string)\n",
        "print(f'Number of Diamonds: {returned_value}') #This should print 3\n",
        "unittest.output_test(returned_value, 3)\n",
        "print('-----------------------------------------')\n",
        "\n",
        "\n",
        "print('Test 02')\n",
        "stack = Stack()\n",
        "string = '<<<..<......<<<<....>'\n",
        "returned_value = diamond_count(stack,string)\n",
        "print(f'Number of Diamonds: {returned_value}') #This should print 1\n",
        "unittest.output_test(returned_value, 1)\n",
        "print('-----------------------------------------')\n",
        "\n",
        "\n",
        "print('Test 03')\n",
        "stack = Stack()\n",
        "string = '>>><...<<..>>...>...>>>'\n",
        "returned_value = diamond_count(stack,string)\n",
        "print(f'Number of Diamonds: {returned_value}') #This should print 3\n",
        "unittest.output_test(returned_value, 3)\n",
        "print('-----------------------------------------')"
      ],
      "metadata": {
        "id": "GnX70OIvG_gZ",
        "colab": {
          "base_uri": "https://localhost:8080/"
        },
        "outputId": "976c54f4-ff6b-494c-963a-0a0f85ff98bd"
      },
      "execution_count": null,
      "outputs": [
        {
          "output_type": "stream",
          "name": "stdout",
          "text": [
            "Test 01\n",
            "Number of Diamonds: 3\n",
            "Accepted\n",
            "-----------------------------------------\n",
            "Test 02\n",
            "Number of Diamonds: 1\n",
            "Accepted\n",
            "-----------------------------------------\n",
            "Test 03\n",
            "Number of Diamonds: 3\n",
            "Accepted\n",
            "-----------------------------------------\n"
          ]
        }
      ]
    },
    {
      "cell_type": "markdown",
      "source": [
        "Task 2: Tower of Blocks"
      ],
      "metadata": {
        "id": "PhCF3SZ6IX5g"
      }
    },
    {
      "cell_type": "code",
      "source": [
        "def remove_block(stack, n):\n",
        "  temp = Stack()\n",
        "  for i in range(n - 1):\n",
        "    x = stack.pop()\n",
        "    temp.push(x)\n",
        "  stack.pop()\n",
        "  for j in range(n - 1):\n",
        "    x = temp.pop()\n",
        "    stack.push(x)\n",
        "  return stack\n",
        "\n",
        "\n",
        "print('Test 01')\n",
        "st = Stack()\n",
        "st.push(4)\n",
        "st.push(19)\n",
        "st.push(23)\n",
        "st.push(17)\n",
        "st.push(5)\n",
        "print('Stack:')\n",
        "print_stack(st)\n",
        "print('------')\n",
        "remove_block(st,2)\n",
        "print('After Removal')\n",
        "print_stack(st)\n",
        "print('------')\n",
        "\n",
        "print()\n",
        "print('======================================')\n",
        "print()\n",
        "\n",
        "print('Test 02')\n",
        "st = Stack()\n",
        "st.push(73)\n",
        "st.push(85)\n",
        "st.push(15)\n",
        "st.push(41)\n",
        "print('Stack:')\n",
        "print_stack(st)\n",
        "print('------')\n",
        "remove_block(st,3)\n",
        "print('After Removal')\n",
        "print_stack(st)\n",
        "print('------')\n",
        "\n",
        "print()\n",
        "print('======================================')\n",
        "print()"
      ],
      "metadata": {
        "id": "W3N4q7YAHExr",
        "colab": {
          "base_uri": "https://localhost:8080/"
        },
        "outputId": "0d651f0a-e457-4c02-c0b6-8c453a609242"
      },
      "execution_count": null,
      "outputs": [
        {
          "output_type": "stream",
          "name": "stdout",
          "text": [
            "Test 01\n",
            "Stack:\n",
            "| 5  |\n",
            "| 17 |\n",
            "| 23 |\n",
            "| 19 |\n",
            "| 4  |\n",
            "------\n",
            "After Removal\n",
            "| 5  |\n",
            "| 23 |\n",
            "| 19 |\n",
            "| 4  |\n",
            "------\n",
            "\n",
            "======================================\n",
            "\n",
            "Test 02\n",
            "Stack:\n",
            "| 41 |\n",
            "| 15 |\n",
            "| 85 |\n",
            "| 73 |\n",
            "------\n",
            "After Removal\n",
            "| 41 |\n",
            "| 15 |\n",
            "| 73 |\n",
            "------\n",
            "\n",
            "======================================\n",
            "\n"
          ]
        }
      ]
    },
    {
      "cell_type": "markdown",
      "source": [
        "Task 3: Stack Reverse"
      ],
      "metadata": {
        "id": "jcngRuqUWOfl"
      }
    },
    {
      "cell_type": "code",
      "source": [
        "def conditional_reverse(stack):\n",
        "  reve_stack = Stack()\n",
        "\n",
        "  while stack.isEmpty() != True:\n",
        "    cur_elem = stack.pop()\n",
        "    if cur_elem != reve_stack.peek():\n",
        "      reve_stack.push(cur_elem)\n",
        "  return reve_stack\n",
        "\n",
        "\n",
        "print('Test 01')\n",
        "st=Stack()\n",
        "st.push(10)\n",
        "st.push(10)\n",
        "st.push(20)\n",
        "st.push(20)\n",
        "st.push(30)\n",
        "st.push(10)\n",
        "st.push(50)\n",
        "print('Stack:')\n",
        "print_stack(st)\n",
        "print('------')\n",
        "reversed_stack=conditional_reverse(st)\n",
        "print('Conditional Reversed Stack:')\n",
        "print_stack(reversed_stack) # This stack contains 50, 10, 30, 20, 10 in this order whereas top element should be 10\n",
        "print('------')"
      ],
      "metadata": {
        "id": "gLSgfDKPWPnP",
        "colab": {
          "base_uri": "https://localhost:8080/"
        },
        "outputId": "d29cae87-d231-424b-f298-ee97cf7bc430"
      },
      "execution_count": null,
      "outputs": [
        {
          "output_type": "stream",
          "name": "stdout",
          "text": [
            "Test 01\n",
            "Stack:\n",
            "| 50 |\n",
            "| 10 |\n",
            "| 30 |\n",
            "| 20 |\n",
            "| 20 |\n",
            "| 10 |\n",
            "| 10 |\n",
            "------\n",
            "Conditional Reversed Stack:\n",
            "| 10 |\n",
            "| 20 |\n",
            "| 30 |\n",
            "| 10 |\n",
            "| 50 |\n",
            "------\n"
          ]
        }
      ]
    }
  ]
}